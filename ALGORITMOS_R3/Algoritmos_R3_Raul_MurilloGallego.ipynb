{
 "cells": [
  {
   "cell_type": "markdown",
   "metadata": {
    "id": "4lnfsRJfQysM"
   },
   "source": [
    "# Algoritmos de optimización - Reto 3\n",
    "\n",
    "Nombre: RAÚL MURILLO GALLEGO<br>\n",
    "Github: [Repositorio de la actividad](https://github.com/RaulMGallego/03MAIR-Algoritmos-de-Optimizacion-2024/blob/main/ALGORITMOS_R3/Algoritmos_R3_Raul_MurilloGallego.ipynb)<br>\n",
    "Reto: Mejorar la implementación de recocido simulado implementado en clase sobre el TSP eligiendo una generación de solución vecina con un grado de aleatoriedad menor (función genera_vecino_aleatorio())."
   ]
  },
  {
   "cell_type": "markdown",
   "metadata": {
    "id": "QVNW9J09UM9N"
   },
   "source": [
    "Cambios Principales:\n",
    "\n",
    "Generación de Vecinos con 2-opt:\n",
    "\n",
    "- La función genera_vecina_2opt intercambia dos aristas en la ruta, lo que produce soluciones vecinas más estructuradas y potencialmente mejores.\n",
    "\n",
    "Enfriamiento de la Temperatura:\n",
    "\n",
    "- La temperatura disminuye multiplicando por un factor de 0.99 en cada iteración, lo que permite una exploración más controlada.\n",
    "\n",
    "Criterio de Aceptación:\n",
    "\n",
    "- Se mantiene el criterio de aceptación basado en la probabilidad exponencial, pero ahora se aplica solo cuando la solución vecina es peor que la actual.\n",
    "\n",
    "**Resultados Esperados:**\n",
    "\n",
    "La solución final debería ser de mejor calidad que la obtenida con el método anterior, ya que la generación de vecinos con 2-opt tiende a producir soluciones más cercanas al óptimo.\n",
    "\n",
    "El algoritmo convergerá más rápidamente debido a la reducción de la aleatoriedad en la generación de vecinos.\n",
    "\n",
    "**Ejemplos de respuestas:**\n",
    "\n",
    "La mejor solución encontrada es: [18, 8, 9, 23, 40, 24, 21, 39, 22, 38, 29, 30, 32, 28, 27, 2, 3, 6, 1, 0, 34, 33, 20, 35, 36, 31, 17, 7, 37, 15, 16, 14, 19, 5, 26, 13, 4, 10, 41, 25, 12, 11]\n",
    "Con una distancia total de: **1544**\n",
    "\n",
    "La mejor solución encontrada es: [21, 40, 24, 39, 22, 38, 29, 30, 27, 28, 32, 35, 36, 17, 31, 20, 33, 34, 0, 1, 7, 15, 37, 16, 14, 19, 13, 5, 6, 26, 18, 4, 3, 2, 8, 12, 11, 10, 25, 41, 23, 9]\n",
    "Con una distancia total de: **1572**\n"
   ]
  },
  {
   "cell_type": "code",
   "execution_count": 36,
   "metadata": {
    "colab": {
     "base_uri": "https://localhost:8080/"
    },
    "id": "qc58OPWCT-P0",
    "outputId": "2450dd4b-4e40-4626-99fc-83d59f866016"
   },
   "outputs": [
    {
     "name": "stdout",
     "output_type": "stream",
     "text": [
      "gzip: swiss42.tsp already exists; do you wish to overwrite (y or n)? y\n"
     ]
    }
   ],
   "source": [
    "import urllib.request  # Hacer llamadas HTTP a páginas de la red\n",
    "import tsplib95       # Módulo para las instancias del problema del TSP\n",
    "import math           # Módulo de funciones matemáticas\n",
    "import random         # Para generar valores aleatorios\n",
    "\n",
    "# Descargamos el fichero de datos (Matriz de distancias)\n",
    "file = \"swiss42.tsp\"\n",
    "urllib.request.urlretrieve(\"http://comopt.ifi.uni-heidelberg.de/software/TSPLIB95/tsp/swiss42.tsp.gz\", file + '.gz')\n",
    "!gzip -d swiss42.tsp.gz  # Descomprimir el fichero de datos"
   ]
  },
  {
   "cell_type": "code",
   "execution_count": 55,
   "metadata": {
    "colab": {
     "base_uri": "https://localhost:8080/"
    },
    "id": "6lOXMOEuS4tG",
    "outputId": "aabf5094-fe2f-4a61-907a-9c098387789a"
   },
   "outputs": [
    {
     "name": "stdout",
     "output_type": "stream",
     "text": [
      "La mejor solución encontrada es: [21, 40, 24, 39, 22, 38, 29, 30, 27, 28, 32, 35, 36, 17, 31, 20, 33, 34, 0, 1, 7, 15, 37, 16, 14, 19, 13, 5, 6, 26, 18, 4, 3, 2, 8, 12, 11, 10, 25, 41, 23, 9]\n",
      "Con una distancia total de: 1572\n"
     ]
    }
   ],
   "source": [
    "\n",
    "\n",
    "# Carga de datos y generación de objeto problem\n",
    "problem = tsplib95.load(file)\n",
    "\n",
    "# Nodos\n",
    "Nodos = list(problem.get_nodes())\n",
    "\n",
    "# Aristas\n",
    "Aristas = list(problem.get_edges())\n",
    "\n",
    "# Función para crear una solución aleatoria\n",
    "def crear_solucion(Nodos):\n",
    "    solucion = Nodos.copy()\n",
    "    random.shuffle(solucion)\n",
    "    return solucion\n",
    "\n",
    "# Función para calcular la distancia entre dos nodos\n",
    "def distancia(a, b, problem):\n",
    "    return problem.get_weight(a, b)\n",
    "\n",
    "# Función para calcular la distancia total de una trayectoria/solución\n",
    "def distancia_total(solucion, problem):\n",
    "    distancia_total = 0\n",
    "    for i in range(len(solucion) - 1):\n",
    "        distancia_total += distancia(solucion[i], solucion[i + 1], problem)\n",
    "    return distancia_total + distancia(solucion[-1], solucion[0], problem)\n",
    "\n",
    "# Generación de una solución vecina usando 2-opt\n",
    "def genera_vecina_2opt(solucion):\n",
    "    # Seleccionar dos índices aleatorios\n",
    "    i, j = sorted(random.sample(range(1, len(solucion) - 1), 2))\n",
    "    # Intercambiar las aristas entre i y j\n",
    "    nueva_solucion = solucion[:i] + solucion[i:j + 1][::-1] + solucion[j + 1:]\n",
    "    return nueva_solucion\n",
    "\n",
    "# Función de probabilidad para aceptar peores soluciones\n",
    "def probabilidad(T, d):\n",
    "    return random.random() < math.exp(-d / T)\n",
    "\n",
    "# Función de descenso de temperatura\n",
    "def bajar_temperatura(T):\n",
    "    return T * 0.99\n",
    "\n",
    "# Algoritmo de Recocido Simulado mejorado\n",
    "def recocido_simulado_mejorado(problem, TEMPERATURA_INICIAL):\n",
    "    # Solución inicial aleatoria\n",
    "    solucion_actual = crear_solucion(Nodos)\n",
    "    distancia_actual = distancia_total(solucion_actual, problem)\n",
    "\n",
    "    # Mejor solución encontrada\n",
    "    mejor_solucion = solucion_actual.copy()\n",
    "    mejor_distancia = distancia_actual\n",
    "\n",
    "    # Parámetros del recocido simulado\n",
    "    TEMPERATURA = TEMPERATURA_INICIAL\n",
    "    while TEMPERATURA > 0.0001:\n",
    "        # Generar una solución vecina usando 2-opt\n",
    "        vecina = genera_vecina_2opt(solucion_actual)\n",
    "        distancia_vecina = distancia_total(vecina, problem)\n",
    "\n",
    "        # Si la solución vecina es mejor, actualizar la solución actual\n",
    "        if distancia_vecina < distancia_actual:\n",
    "            solucion_actual = vecina\n",
    "            distancia_actual = distancia_vecina\n",
    "            # Actualizar la mejor solución encontrada\n",
    "            if distancia_vecina < mejor_distancia:\n",
    "                mejor_solucion = vecina\n",
    "                mejor_distancia = distancia_vecina\n",
    "        else:\n",
    "            # Aceptar la solución vecina con una probabilidad\n",
    "            if probabilidad(TEMPERATURA, distancia_vecina - distancia_actual):\n",
    "                solucion_actual = vecina\n",
    "                distancia_actual = distancia_vecina\n",
    "\n",
    "        # Enfriar la temperatura\n",
    "        TEMPERATURA = bajar_temperatura(TEMPERATURA)\n",
    "\n",
    "    print(\"La mejor solución encontrada es:\", mejor_solucion)\n",
    "    print(\"Con una distancia total de:\", mejor_distancia)\n",
    "    return mejor_solucion\n",
    "\n",
    "# Ejecutar el recocido simulado mejorado\n",
    "solucion_final = recocido_simulado_mejorado(problem, TEMPERATURA_INICIAL=1000000)"
   ]
  }
 ],
 "metadata": {
  "colab": {
   "provenance": []
  },
  "kernelspec": {
   "display_name": "Python 3 (ipykernel)",
   "language": "python",
   "name": "python3"
  },
  "language_info": {
   "codemirror_mode": {
    "name": "ipython",
    "version": 3
   },
   "file_extension": ".py",
   "mimetype": "text/x-python",
   "name": "python",
   "nbconvert_exporter": "python",
   "pygments_lexer": "ipython3",
   "version": "3.12.7"
  }
 },
 "nbformat": 4,
 "nbformat_minor": 4
}
