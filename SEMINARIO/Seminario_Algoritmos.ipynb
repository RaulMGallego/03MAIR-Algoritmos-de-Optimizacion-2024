{
  "nbformat": 4,
  "nbformat_minor": 0,
  "metadata": {
    "colab": {
      "provenance": []
    },
    "kernelspec": {
      "name": "python3",
      "display_name": "Python 3"
    }
  },
  "cells": [
    {
      "cell_type": "markdown",
      "metadata": {
        "id": "hVbXYX-RfPWh"
      },
      "source": [
        "[Open In Colab](https://colab.research.google.com/github/RaulMGallego/03MAIR-Algoritmos-de-Optimizacion-2024/blob/main/SEMINARIO/Seminario_Algoritmos.ipynb)\n",
        "\n",
        "# Algoritmos de optimización - Seminario<br>\n",
        "# Nombre y Apellidos: **RAÚL MURILLO GALLEGO**  <br>\n",
        "Url:\n",
        "\n",
        "GitHub: https://github.com/RaulMGallego/03MAIR-Algoritmos-de-Optimizacion-2024/blob/main/SEMINARIO/Seminario_Algoritmos.ipynb<br>\n",
        "\n",
        "Google Colab:\n",
        "\n",
        "Problema:\n",
        "> 1. Sesiones de doblaje <br>\n",
        ">2. Organizar los horarios de partidos de La Liga<br>\n",
        ">3. Combinar cifras y operaciones\n",
        "\n",
        "Descripción del problema:\n",
        "\n",
        "Problema 3. Combinar cifras y operaciones\n",
        "- El problema consiste en analizar el siguiente problema y diseñar un algoritmo que lo resuelva.\n",
        "- Disponemos de las 9 cifras del 1 al 9 (excluimos el cero) y de los 4 signos básicos de las operaciones fundamentales: suma(+), resta(-), multiplicación(*) y división(/)\n",
        "- Debemos combinarlos alternativamente sin repetir ninguno de ellos para obtener una cantidad dada. Un ejemplo sería para obtener el 4:\n",
        "4+2-6/3*1 = 4\n",
        "\n",
        "(*) La respuesta es obligatoria\n",
        "\n",
        "\n",
        "\n",
        "\n",
        "\n",
        "                                        "
      ]
    },
    {
      "cell_type": "code",
      "metadata": {
        "id": "AiskKkzZfy4e"
      },
      "source": [],
      "execution_count": null,
      "outputs": []
    },
    {
      "cell_type": "markdown",
      "metadata": {
        "id": "3_-exlrTgLd-"
      },
      "source": [
        "(*)¿Cuantas posibilidades hay sin tener en cuenta las restricciones?<br>\n",
        "\n",
        "\n",
        "\n",
        "¿Cuantas posibilidades hay teniendo en cuenta todas las restricciones.\n",
        "\n",
        "\n"
      ]
    },
    {
      "cell_type": "markdown",
      "metadata": {
        "id": "WfCUqJyKhPcw"
      },
      "source": [
        "Respuesta:\n",
        "\n",
        "**¿Cuantas posibilidades hay sin tener en cuenta las restricciones?**\n",
        "\n",
        "Sin tener en cuenta las restricciones, el problema consiste en combinar 5 números (del 1 al 9) y 4 operadores (+, -, *, /) de manera alternada.\n",
        "\n",
        "*Números:* Hay 9 opciones para el primer número, 8 para el segundo, 7 para el tercero, 6 para el cuarto y 5 para el quinto. Esto es 9×8×7×6×5=15,120 permutaciones.\n",
        "\n",
        "*Operadores:* Hay 4 opciones para cada operador, y como hay 4 operadores, el total es 4^4=256 combinaciones\n",
        "\n",
        "El total de posibilidades sin restricciones es:\n",
        "15,120×256=3,870,720\n",
        "\n",
        "**¿Cuantas posibilidades hay teniendo en cuenta todas las restricciones?**\n",
        "\n",
        "Las restricciones son:\n",
        "- No se pueden repetir números.\n",
        "- No se pueden repetir operadores.\n",
        "\n",
        "*Números:* Las permutaciones de 5 números distintos del 1 al 9 son P(9,5)=9×8×7×6×5=15,120.\n",
        "\n",
        "*Operadores:* Como no se pueden repetir operadores, se deben seleccionar 4 operadores distintos de los 4 disponibles. Esto es P(4,4)=4!=24 combinaciones.\n",
        "\n",
        "El total de posibilidades con restricciones es:\n",
        "15,120×24=362,880\n",
        "\n"
      ]
    },
    {
      "cell_type": "code",
      "metadata": {
        "id": "iq6Fe32MgpDX"
      },
      "source": [],
      "execution_count": 1,
      "outputs": []
    },
    {
      "cell_type": "markdown",
      "metadata": {
        "id": "dzynfVJahHoY"
      },
      "source": [
        "Modelo para el espacio de soluciones<br>\n",
        "(*) ¿Cual es la estructura de datos que mejor se adapta al problema? Argumentalo.(Es posible que hayas elegido una al principio y veas la necesidad de cambiar, arguentalo)\n"
      ]
    },
    {
      "cell_type": "markdown",
      "metadata": {
        "id": "xFIJrOwKi2Ti"
      },
      "source": [
        "Respuesta:\n",
        "\n",
        "Las estructuras clave podrían ser:\n",
        "- **Listas** (para almacenar números y operadores de forma ordenada).\n",
        "- **Árboles binarios de expresión** (para evaluar operaciones matemáticas en un orden estructurado).\n",
        "\n",
        "Un árbol binario de expresión es especialmente útil, ya que permite evaluar fácilmente diferentes combinaciones de operaciones de manera eficiente."
      ]
    },
    {
      "cell_type": "code",
      "metadata": {
        "id": "38c-7-ejhJmA"
      },
      "source": [],
      "execution_count": null,
      "outputs": []
    },
    {
      "cell_type": "markdown",
      "metadata": {
        "id": "7Z9U2W7bi-XS"
      },
      "source": [
        "Según el modelo para el espacio de soluciones<br>\n",
        "(*)¿Cual es la función objetivo?\n",
        "\n",
        "(*)¿Es un problema de maximización o minimización?"
      ]
    },
    {
      "cell_type": "markdown",
      "metadata": {
        "id": "hBalWLM7j1_d"
      },
      "source": [
        "Respuesta:\n",
        "\n",
        "**¿Cual es la función objetivo?**\n",
        "\n",
        "La función objetivo es encontrar todas las combinaciones de números y operadores que resulten en el número objetivo\n",
        "\n",
        "\n",
        "**¿Es un problema de maximización o minimización?**\n",
        "\n",
        "No es ni de maximización ni minimización en su forma original. Es un problema de búsqueda combinatoria, donde intentamos encontrar soluciones válidas.\n"
      ]
    },
    {
      "cell_type": "code",
      "metadata": {
        "id": "pDA-rg3Gj5Lz"
      },
      "source": [],
      "execution_count": null,
      "outputs": []
    },
    {
      "cell_type": "markdown",
      "metadata": {
        "id": "rlnTYgY1j6I2"
      },
      "source": [
        "Diseña un algoritmo para resolver el problema por fuerza bruta"
      ]
    },
    {
      "cell_type": "markdown",
      "metadata": {
        "id": "70rDgxYXkC8r"
      },
      "source": [
        "Respuesta"
      ]
    },
    {
      "cell_type": "code",
      "metadata": {
        "id": "CJb5sQ0qkENy",
        "colab": {
          "base_uri": "https://localhost:8080/"
        },
        "outputId": "791cc83e-a63a-4cba-deda-d5b2955a19e4"
      },
      "source": [
        "from itertools import permutations, product\n",
        "import time\n",
        "inicio = time.time()  # Marca el tiempo de inicio\n",
        "\n",
        "def fuerza_bruta(objetivo,numeros,operadores):\n",
        "    soluciones = []\n",
        "    # Generar todas las permutaciones de los números\n",
        "    for nums in permutations(numeros, 5):  # Usamos 5 números para 4 operadores\n",
        "        # Generar todas las combinaciones de operadores\n",
        "        for ops in product(operadores, repeat=4):\n",
        "            # Construir la expresión\n",
        "            expresion = f\"{nums[0]}{ops[0]}{nums[1]}{ops[1]}{nums[2]}{ops[2]}{nums[3]}{ops[3]}{nums[4]}\"\n",
        "            try:\n",
        "                # Evaluar la expresión\n",
        "                if abs(eval(expresion) - objetivo) < 1e-6:  # Considerar errores de redondeo\n",
        "                    soluciones.append(expresion)\n",
        "            except ZeroDivisionError:\n",
        "                continue\n",
        "\n",
        "    return soluciones\n",
        "\n",
        "# Ejemplo de uso\n",
        "objetivo = 4\n",
        "numeros = [1, 2, 3, 4, 5, 6, 7, 8, 9]\n",
        "operadores = ['+', '-', '*', '/']\n",
        "soluciones = fuerza_bruta(objetivo,numeros,operadores)\n",
        "print(f\"Soluciones encontradas para {objetivo}: {len(soluciones)}\")\n",
        "for sol in soluciones[:10]:\n",
        "    print(sol + '=' + str(objetivo))\n",
        "\n",
        "fin = time.time()  # Marca el tiempo de fin\n",
        "tiempo_ejecucion = fin - inicio\n",
        "print(f\"Tiempo de ejecución (Fuerza Bruta): {tiempo_ejecucion:.4f} segundos\")"
      ],
      "execution_count": 2,
      "outputs": [
        {
          "output_type": "stream",
          "name": "stdout",
          "text": [
            "Soluciones encontradas para 4: 26706\n",
            "1-2*3+4+5=4\n",
            "1*2+3+4-5=4\n",
            "1+2+3+4-6=4\n",
            "1-2+3-4+6=4\n",
            "1*2+3*4/6=4\n",
            "1*2*3+4-6=4\n",
            "1*2*3*4/6=4\n",
            "1/2/3*4*6=4\n",
            "1+2*3+4-7=4\n",
            "1-2+3*4-7=4\n",
            "Tiempo de ejecución (Fuerza Bruta): 35.1931 segundos\n"
          ]
        }
      ]
    },
    {
      "cell_type": "markdown",
      "metadata": {
        "id": "tgrnsC2nkFa8"
      },
      "source": [
        "Calcula la complejidad del algoritmo por fuerza bruta"
      ]
    },
    {
      "cell_type": "markdown",
      "metadata": {
        "id": "9eUd3xwckP68"
      },
      "source": [
        "Respuesta:\n",
        "\n",
        "Permutaciones de números: P(9,5)=15,120.\n",
        "Permutaciones de operadores: P(4,4)=24.\n",
        "Total de combinaciones: 15,120×24=362,880.\n",
        "\n",
        "La complejidad es O(n!), donde n es el número de elementos a permutar. En este caso, es O(9!) para los números y O(4!) para los operadores."
      ]
    },
    {
      "cell_type": "code",
      "metadata": {
        "id": "rvZWwL-ckRST"
      },
      "source": [],
      "execution_count": null,
      "outputs": []
    },
    {
      "cell_type": "markdown",
      "metadata": {
        "id": "txbrmLmskReM"
      },
      "source": [
        "(*)Diseña un algoritmo que mejore la complejidad del algortimo por fuerza bruta. Argumenta porque crees que mejora el algoritmo por fuerza bruta"
      ]
    },
    {
      "cell_type": "markdown",
      "metadata": {
        "id": "hLrVwt5QkZPD"
      },
      "source": [
        "Respuesta"
      ]
    },
    {
      "cell_type": "code",
      "metadata": {
        "id": "m1eyM21Vkabg",
        "colab": {
          "base_uri": "https://localhost:8080/"
        },
        "outputId": "d12c80b1-a40b-40fc-d7dc-4478c949a6d6"
      },
      "source": [
        "from itertools import permutations\n",
        "import time\n",
        "inicio = time.time()  # Marca el tiempo de inicio\n",
        "\n",
        "def evaluar_parcial(nums, ops, objetivo):\n",
        "    try:\n",
        "        resultado = nums[0]\n",
        "        for i in range(len(ops)):\n",
        "            if ops[i] == '+':\n",
        "                resultado += nums[i+1]\n",
        "            elif ops[i] == '-':\n",
        "                resultado -= nums[i+1]\n",
        "            elif ops[i] == '*':\n",
        "                resultado *= nums[i+1]\n",
        "            elif ops[i] == '/':\n",
        "                resultado /= nums[i+1]\n",
        "            # Poda: si el resultado parcial ya no puede llevar a la solución, retornar False\n",
        "            if abs(resultado - objetivo) > 1e6:  # Umbral arbitrario\n",
        "                return False\n",
        "        # Comparar con el objetivo usando un margen de error muy pequeño\n",
        "        return abs(resultado - objetivo) < 1e-6\n",
        "    except ZeroDivisionError:\n",
        "        return False\n",
        "\n",
        "def algoritmo_optimizado(objetivo,numeros,operadores):\n",
        "\n",
        "    soluciones = []\n",
        "\n",
        "    # Generar permutaciones de 5 números\n",
        "    for nums in permutations(numeros, 5):\n",
        "        # Generar permutaciones de 4 operadores\n",
        "        for ops in permutations(operadores, 4):\n",
        "            # Construir la expresión\n",
        "            expresion = f\"{nums[0]}{ops[0]}{nums[1]}{ops[1]}{nums[2]}{ops[2]}{nums[3]}{ops[3]}{nums[4]}\"\n",
        "            try:\n",
        "                # Evaluar la expresión\n",
        "                resultado = eval(expresion)\n",
        "                # Verificar si el resultado es exactamente igual al objetivo\n",
        "                if abs(resultado - objetivo) < 1e-6:  # Margen de error muy pequeño\n",
        "                    soluciones.append(expresion)\n",
        "            except ZeroDivisionError:\n",
        "                continue\n",
        "\n",
        "    return soluciones\n",
        "\n",
        "# Ejemplo de uso\n",
        "objetivo = 4\n",
        "numeros = [1, 2, 3, 4, 5, 6, 7, 8, 9]\n",
        "operadores = ['+', '-', '*', '/']\n",
        "soluciones = algoritmo_optimizado(objetivo,numeros,operadores)\n",
        "print(f\"Soluciones encontradas para {objetivo}: {len(soluciones)}\")\n",
        "for sol in soluciones[:10]:\n",
        "    print(sol + '=' + str(objetivo))\n",
        "\n",
        "fin = time.time()  # Marca el tiempo de fin\n",
        "tiempo_ejecucion = fin - inicio\n",
        "print(f\"Tiempo de ejecución (Algoritmo Optimizado): {tiempo_ejecucion:.4f} segundos\")"
      ],
      "execution_count": 3,
      "outputs": [
        {
          "output_type": "stream",
          "name": "stdout",
          "text": [
            "Soluciones encontradas para 4: 2112\n",
            "1-2*3/6+4=4\n",
            "1-2/3*6+7=4\n",
            "1/2*4-3+5=4\n",
            "1/2*4+5-3=4\n",
            "1/2*4-5+7=4\n",
            "1*2+4-6/3=4\n",
            "1/2*4-6+8=4\n",
            "1/2*4+7-5=4\n",
            "1/2*4-7+9=4\n",
            "1/2*4+8-6=4\n",
            "Tiempo de ejecución (Algoritmo Optimizado): 4.1760 segundos\n"
          ]
        }
      ]
    },
    {
      "cell_type": "markdown",
      "source": [
        "**Observación:**\n",
        "\n",
        "La diferencia en el número de soluciones (Fuerza Bruta: 26.706 y Algoritmo optimizado: 2.112) se debe a:\n",
        "- Errores de redondeo en el algoritmo de fuerza bruta, que permiten que algunas expresiones \"casi correctas\" se consideren válidas.\n",
        "- Validación más estricta en el algoritmo mejorado, que solo acepta expresiones que dan exactamente 4.\n",
        "- Poda en el algoritmo mejorado, que reduce el espacio de búsqueda y evita evaluar combinaciones innecesarias.\n",
        "El algoritmo mejorado es más preciso y eficiente, pero encuentra menos soluciones porque elimina aquellas que no cumplen estrictamente con la condición de ser iguales a 4."
      ],
      "metadata": {
        "id": "fftIeSQbhkUN"
      }
    },
    {
      "cell_type": "markdown",
      "metadata": {
        "id": "eGDB4K6uk1iN"
      },
      "source": [
        "(*)Calcula la complejidad del algoritmo"
      ]
    },
    {
      "cell_type": "markdown",
      "metadata": {
        "id": "NhpTh_BPk1ms"
      },
      "source": [
        "Respuesta:\n",
        "La complejidad teórica sigue siendo O(n!), pero en la práctica se reduce significativamente debido a la poda. El número de combinaciones evaluadas es mucho menor"
      ]
    },
    {
      "cell_type": "code",
      "metadata": {
        "id": "nREzhkStlCq8"
      },
      "source": [],
      "execution_count": null,
      "outputs": []
    },
    {
      "cell_type": "markdown",
      "metadata": {
        "id": "3M6QjTsSkmYe"
      },
      "source": [
        "Según el problema (y tenga sentido), diseña un juego de datos de entrada aleatorios"
      ]
    },
    {
      "cell_type": "markdown",
      "metadata": {
        "id": "Jc3_OlyNkvjZ"
      },
      "source": [
        "Respuesta"
      ]
    },
    {
      "cell_type": "code",
      "metadata": {
        "id": "sJ-N2etjkyWc"
      },
      "source": [
        "# En función del modelo anterior, vamos a tener un objetivo de 10 y solamente se van a poder utilizar los siguientes elementos (3,5,6,7,9)\n",
        "objetivo = 10\n",
        "numeros = [3, 5, 6, 7, 9]\n",
        "operadores = ['+', '-', '*', '/']"
      ],
      "execution_count": 4,
      "outputs": []
    },
    {
      "cell_type": "markdown",
      "metadata": {
        "id": "zy5ZROmjlGo1"
      },
      "source": [
        "Aplica el algoritmo al juego de datos generado"
      ]
    },
    {
      "cell_type": "markdown",
      "metadata": {
        "id": "_Cmj-PVylMsa"
      },
      "source": [
        "Respuesta"
      ]
    },
    {
      "cell_type": "code",
      "metadata": {
        "id": "Jkx8GeiYlUz1",
        "colab": {
          "base_uri": "https://localhost:8080/"
        },
        "outputId": "5e6d56c7-923e-4e90-891e-68c4786238e7"
      },
      "source": [
        "import time\n",
        "inicio = time.time()  # Marca el tiempo de inicio\n",
        "\n",
        "objetivo = 10\n",
        "numeros = [3, 5, 6, 7, 9]\n",
        "operadores = ['+', '-', '*', '/']\n",
        "soluciones = algoritmo_optimizado(objetivo,numeros,operadores)\n",
        "print(f\"Soluciones encontradas para {objetivo}: {len(soluciones)}\")\n",
        "for sol in soluciones[:10]:\n",
        "    print(sol + '=' + str(objetivo))\n",
        "\n",
        "fin = time.time()  # Marca el tiempo de fin\n",
        "tiempo_ejecucion = fin - inicio\n",
        "print(f\"Tiempo de ejecución (Algoritmo Optimizado - Juego de Datos): {tiempo_ejecucion:.4f} segundos\")"
      ],
      "execution_count": 6,
      "outputs": [
        {
          "output_type": "stream",
          "name": "stdout",
          "text": [
            "Soluciones encontradas para 10: 32\n",
            "5-3*6/9+7=10\n",
            "5-3/9*6+7=10\n",
            "5+6/3*7-9=10\n",
            "5-6*3/9+7=10\n",
            "5+6*7/3-9=10\n",
            "5-6/9*3+7=10\n",
            "5+7-3*6/9=10\n",
            "5+7/3*6-9=10\n",
            "5+7-3/9*6=10\n",
            "5+7-6*3/9=10\n",
            "Tiempo de ejecución (Algoritmo Optimizado - Juego de Datos): 0.0274 segundos\n"
          ]
        }
      ]
    },
    {
      "cell_type": "markdown",
      "metadata": {
        "id": "eTFWUJQrtGcv"
      },
      "source": [
        "Enumera las referencias que has utilizado(si ha sido necesario) para llevar a cabo el trabajo"
      ]
    },
    {
      "cell_type": "markdown",
      "metadata": {
        "id": "YKQ_mRBttWsP"
      },
      "source": [
        "Respuesta:\n",
        "\n",
        "- Documentación de Python: https://docs.python.org/3/\n",
        "\n",
        "- Libro \"Introduction to Algorithms\" de Cormen et al."
      ]
    },
    {
      "cell_type": "markdown",
      "metadata": {
        "id": "kAkDPUyRtYyH"
      },
      "source": [
        "Describe brevemente las lineas de como crees que es posible avanzar en el estudio del problema. Ten en cuenta incluso posibles variaciones del problema y/o variaciones al alza del tamaño"
      ]
    },
    {
      "cell_type": "markdown",
      "metadata": {
        "id": "IE0uZmo-tZu-"
      },
      "source": [
        "Respuesta:\n",
        "\n",
        "A continuación, se aportan una serie de mejoras en el algoritmo, así como, unas propuestas de variaciones en el problema:\n",
        "\n",
        "- Optimización adicional: Utilizar técnicas como backtracking con memoización para reducir aún más el espacio de búsqueda.\n",
        "- Paralelización: Dividir el problema en subproblemas que puedan ser resueltos en paralelo.\n",
        "\n",
        "Variaciones del problema:\n",
        "\n",
        "- Permitir el uso de paréntesis para cambiar el orden de las operaciones.\n",
        "- Incluir más operadores (potencias, raíces, etc.).\n",
        "- Aumentar el tamaño del problema (más números y operadores).\n",
        "- Estudio de heurísticas: Desarrollar heurísticas para guiar la búsqueda hacia soluciones más probables"
      ]
    }
  ]
}